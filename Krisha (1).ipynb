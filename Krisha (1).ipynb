{
 "cells": [
  {
   "cell_type": "code",
   "execution_count": 2,
   "metadata": {},
   "outputs": [],
   "source": [
    "import requests\n",
    "from bs4 import BeautifulSoup as bs\n",
    "import csv\n",
    "import pandas as pd\n",
    "import numpy as np\n",
    "import sklearn"
   ]
  },
  {
   "cell_type": "code",
   "execution_count": 3,
   "metadata": {},
   "outputs": [],
   "source": [
    "base_url = 'https://krisha.kz/arenda/kvartiry/almaty/?das[rent.period]=2'"
   ]
  },
  {
   "cell_type": "code",
   "execution_count": 5,
   "metadata": {},
   "outputs": [],
   "source": [
    "headers = {\n",
    "    'accept':'*/*',\n",
    "    'User-Agent': 'Mozilla/5.0 (Windows NT 10.0; Win64; x64) AppleWebKit/537.36 (KHTML, like Gecko) Chrome/75.0.3770.100 Safari/537.36'\n",
    "}"
   ]
  },
  {
   "cell_type": "code",
   "execution_count": null,
   "metadata": {},
   "outputs": [],
   "source": [
    "flats = []\n",
    "urls = []\n",
    "urls.append(base_url)\n",
    "print(urls)"
   ]
  },
  {
   "cell_type": "code",
   "execution_count": null,
   "metadata": {},
   "outputs": [],
   "source": [
    "session = requests.Session()\n",
    "request = session.get(base_url, headers = headers)\n",
    "print(request)"
   ]
  },
  {
   "cell_type": "code",
   "execution_count": null,
   "metadata": {},
   "outputs": [],
   "source": [
    "if request.status_code == 200:\n",
    "    soup = bs(request.content, 'lxml')\n",
    "    try:\n",
    "        pagination = soup.find_all('a', attrs = {'class':'paginator__btn'})\n",
    "        count = int(pagination[-1].text)\n",
    "        print(count)\n",
    "        for i in range(count-1):\n",
    "            url = f'https://krisha.kz/arenda/kvartiry/almaty/?das[rent.period]=2&page={i+1}'\n",
    "            if url not in urls:\n",
    "                urls.append(url)\n",
    "                print(url)\n",
    "    except:\n",
    "        pass"
   ]
  },
  {
   "cell_type": "code",
   "execution_count": null,
   "metadata": {},
   "outputs": [],
   "source": [
    "for url in urls:\n",
    "        request = session.get(url, headers = headers)\n",
    "        soup = bs(request.content, 'lxml')\n",
    "\n",
    "        divs = soup.find_all('div', attrs = {'class':'a-card__inc'})\n",
    "\n",
    "        for div in divs:\n",
    "            title = div.find('a', attrs = {'class':'a-card__title'}).text\n",
    "            price = div.find('div', attrs = {'class':'a-card__price'}).text\n",
    "            #area = div.find('div', attrs = {'class:offer__advert-short-info'}).text\n",
    "            href = div.find('a', attrs = {'class':'a-card__title'})['href']\n",
    "            address = div.find('div', attrs = {'class':'a-card__subtitle'}).text\n",
    "            content = div.find('div', attrs = {'class':'a-card__text-preview'}).text\n",
    "            owner = div.find('div', attrs = {'class':'a-card__owner user-title-not-pro'})\n",
    "            if owner is None:\n",
    "                specialist = 1\n",
    "                owner = 0\n",
    "            else:\n",
    "                specialist = 0\n",
    "                owner = 1\n",
    "            flats.append({\n",
    "                'title': title,\n",
    "                'price': price,\n",
    "                'href': href,\n",
    "                'address': address,\n",
    "                'content': content,\n",
    "                'specialist': specialist,\n",
    "                'owner': owner\n",
    "            })\n",
    "    print(len(flats))\n",
    "else:\n",
    "    print('ERROR')\n",
    "    return flats"
   ]
  },
  {
   "cell_type": "code",
   "execution_count": null,
   "metadata": {},
   "outputs": [],
   "source": [
    "with open(r\"Krisha.csv\", \"w\", encoding = 'utf-8') as file:\n",
    "    a_pen = csv.writer(file)\n",
    "    a_pen.writerow(('title', 'price', 'href', 'address', 'content','owner','specialist'))\n",
    "    for flat in flats:\n",
    "        a_pen.writerow((flat['title'],flat['price'],flat['href'],flat['address'],flat['content'],flat['owner'],flat['specialist']))\n"
   ]
  },
  {
   "cell_type": "code",
   "execution_count": null,
   "metadata": {},
   "outputs": [],
   "source": [
    "flats = krisha_parse(base_url, headers)"
   ]
  },
  {
   "cell_type": "code",
   "execution_count": null,
   "metadata": {},
   "outputs": [],
   "source": [
    "files_writer(flats)"
   ]
  },
  {
   "cell_type": "code",
   "execution_count": 16,
   "metadata": {},
   "outputs": [],
   "source": [
    "files_writer(flats)"
   ]
  },
  {
   "cell_type": "code",
   "execution_count": null,
   "metadata": {},
   "outputs": [],
   "source": [
    "df = pd.read_csv('Krisha.csv')"
   ]
  },
  {
   "cell_type": "code",
   "execution_count": null,
   "metadata": {},
   "outputs": [],
   "source": [
    "df.head()"
   ]
  },
  {
   "cell_type": "code",
   "execution_count": null,
   "metadata": {},
   "outputs": [],
   "source": [
    "df.shape"
   ]
  },
  {
   "cell_type": "code",
   "execution_count": null,
   "metadata": {},
   "outputs": [],
   "source": [
    "new = df[\"title\"].str.split(\",\", expand = True)\n",
    "df[\"rooms\"]= new[0]\n",
    "df[\"square\"]= new[1] \n",
    "#df[\"floor\"]=new[2]\n",
    "df.drop(columns =[\"title\"], inplace = True)\n",
    "\n",
    "new = df[\"address\"].str.split(\",\", expand = True)\n",
    "df[\"district\"]= new[0]\n",
    "df[\"street\"]= new[1]\n",
    "df.drop(columns =[\"address\"], inplace = True)\n",
    "\n",
    "new = df[\"district\"].str.split(expand = True)\n",
    "df[\"district\"] = new[0]\n",
    "\n",
    "new = df[\"square\"].str.split(expand = True)\n",
    "df[\"square\"] = new[0]\n",
    "df['square']=pd.to_numeric(df['square'])\n",
    "\n",
    "df.drop(columns =[\"href\"], inplace = True)\n",
    "\n",
    "new = df[\"price\"].str.split(expand = True)\n",
    "new = new[0]+new[1]\n",
    "df[\"price\"] = new\n",
    "df['price']=pd.to_numeric(df['price'])\n",
    "df.loc[df.price <= 10000,'price'] = df.price * 1000\n",
    "\n",
    "new = df['rooms'].str.split('-', expand = True)\n",
    "df['rooms'] = new[0]\n",
    "\n",
    "df.drop(columns =[\"street\"], inplace = True)\n",
    "\n",
    "#new = df['floor'].str.split('/', expand = True)\n",
    "#df['floor'] = new[0]\n",
    "#new = new.dropna()\n",
    "#new = new[1].str.split(' ',expand = True)\n",
    "#df['total floors'] = new[0]\n",
    "\n",
    "df = df.dropna()\n",
    "\n",
    "districts = ['Алмалинский','Бостандыкский','Ауэзовский','Медеуский','Жетысуский','Наурызбайский','Алатауский','Турксибский']\n",
    "df = df[df['district'].isin(districts)]\n",
    "\n",
    "year = list(df['content'])\n",
    "yeardf=[]\n",
    "for years in year:\n",
    "    years = years[years.find(\"г.п.\")-5:years.find(\"г.п.\")-1]\n",
    "    yeardf.append(years)\n",
    "df['year'] = yeardf\n",
    "\n",
    "df.drop(columns = [\"content\"], inplace = True)\n",
    "\n",
    "df['yearisnull'] = df['year'].str.find('    ')\n",
    "df = df.loc[df.yearisnull != 0]\n",
    "\n",
    "df.drop(columns =[\"yearisnull\"], inplace = True)\n",
    "\n",
    "df['rooms']=pd.to_numeric(df['rooms'])\n",
    "#df = df.loc[df.rooms!=11]"
   ]
  },
  {
   "cell_type": "code",
   "execution_count": null,
   "metadata": {},
   "outputs": [],
   "source": [
    "df.head()"
   ]
  },
  {
   "cell_type": "code",
   "execution_count": null,
   "metadata": {},
   "outputs": [],
   "source": [
    "df.shape"
   ]
  },
  {
   "cell_type": "code",
   "execution_count": null,
   "metadata": {},
   "outputs": [],
   "source": [
    "import matplotlib as mpl\n",
    "import matplotlib.pyplot as plt"
   ]
  },
  {
   "cell_type": "code",
   "execution_count": null,
   "metadata": {},
   "outputs": [],
   "source": [
    "df1 = df.groupby(['district']).size().reset_index(name='count')\n",
    "df1.sort_values(by=['count'], inplace=True)\n",
    "df1"
   ]
  },
  {
   "cell_type": "code",
   "execution_count": null,
   "metadata": {},
   "outputs": [],
   "source": [
    "df1.set_index('district', inplace=True)"
   ]
  },
  {
   "cell_type": "code",
   "execution_count": null,
   "metadata": {},
   "outputs": [],
   "source": [
    "ds.plot(kind = \"scatter\")"
   ]
  },
  {
   "cell_type": "code",
   "execution_count": null,
   "metadata": {},
   "outputs": [],
   "source": [
    "df1.plot(kind='barh', \n",
    "             stacked=False,\n",
    "             figsize=(20, 10),\n",
    "             color='g',\n",
    "             label=df1['count']\n",
    "             )\n",
    "\n",
    "plt.title('Распределение арендного жилья в городе Алматы')\n",
    "plt.xlabel('Количество квартир')\n",
    "plt.ylabel('Районы')\n",
    "plt.show()"
   ]
  },
  {
   "cell_type": "code",
   "execution_count": null,
   "metadata": {},
   "outputs": [],
   "source": [
    "df.plot(kind='scatter', x='price', y='square', figsize=(12, 9), color='darkblue')\n",
    "\n",
    "plt.title('Зависимость стоимости аренды от площади квартиры')\n",
    "plt.xlabel('Стоимость аренды')\n",
    "plt.ylabel('Площадь')\n",
    "\n",
    "x = df['price']\n",
    "y = df['square']\n",
    "fit = np.polyfit(x, y, deg=1)\n",
    "plt.plot(x, fit[0] * x + fit[1], color='red')\n",
    "\n",
    "plt.show()"
   ]
  },
  {
   "cell_type": "code",
   "execution_count": null,
   "metadata": {},
   "outputs": [],
   "source": [
    "df2 = df.loc[df.price <= 200000]"
   ]
  },
  {
   "cell_type": "code",
   "execution_count": null,
   "metadata": {},
   "outputs": [],
   "source": [
    "df2.head()"
   ]
  },
  {
   "cell_type": "code",
   "execution_count": null,
   "metadata": {},
   "outputs": [],
   "source": [
    "df2.shape"
   ]
  },
  {
   "cell_type": "code",
   "execution_count": null,
   "metadata": {},
   "outputs": [],
   "source": [
    "df2.plot(kind='scatter', x='price', y='square', figsize=(12, 9), color='darkblue')\n",
    "\n",
    "plt.title('Зависимость стоимости аренды от площади квартиры')\n",
    "plt.xlabel('Стоимость аренды')\n",
    "plt.ylabel('Площадь')\n",
    "\n",
    "x = df2['price']\n",
    "y = df2['square']\n",
    "fit = np.polyfit(x, y, deg=1)\n",
    "plt.plot(x, fit[0] * x + fit[1], color='red')\n",
    "\n",
    "plt.show()"
   ]
  },
  {
   "cell_type": "code",
   "execution_count": null,
   "metadata": {},
   "outputs": [],
   "source": [
    "df4 = df.groupby(['district']).sum()\n",
    "#df4.sort_values(by=['count'], inplace=True)\n",
    "df4"
   ]
  },
  {
   "cell_type": "code",
   "execution_count": null,
   "metadata": {},
   "outputs": [],
   "source": [
    "n_groups = 8\n",
    "\n",
    "# create plot\n",
    "fig, ax = plt.subplots()\n",
    "index = np.arange(n_groups)\n",
    "bar_width = 0.35\n",
    "\n",
    "rects1 = plt.barh(index + bar_width, df4['owner'], bar_width,\n",
    "color='b',\n",
    "label='Хозяин')\n",
    "\n",
    "rects2 = plt.barh(index, df4['specialist'], bar_width,\n",
    "color='g',\n",
    "label='Риэлтор')\n",
    "\n",
    "plt.ylabel('Районы')\n",
    "plt.xlabel('Количество квартир')\n",
    "plt.title('Распределение арендного жилья в городе Алматы')\n",
    "plt.yticks(index + bar_width/2, df4.index)\n",
    "plt.legend()"
   ]
  },
  {
   "cell_type": "code",
   "execution_count": null,
   "metadata": {},
   "outputs": [],
   "source": [
    "df.head()"
   ]
  },
  {
   "cell_type": "code",
   "execution_count": null,
   "metadata": {},
   "outputs": [],
   "source": [
    "df5 = df.groupby(['rooms']).size().reset_index(name='count')\n",
    "df5.sort_values(by=['count'], inplace=True)\n",
    "df5.set_index('rooms', inplace=True)\n",
    "df5"
   ]
  },
  {
   "cell_type": "code",
   "execution_count": null,
   "metadata": {},
   "outputs": [],
   "source": [
    "df5.plot(kind='barh', \n",
    "             stacked=False,\n",
    "             figsize=(20, 10),\n",
    "             color='g',\n",
    "             label=df5['count']\n",
    "             )\n",
    "\n",
    "plt.title('Распределение арендного жилья в городе Алматы')\n",
    "plt.xlabel('Количество квартир')\n",
    "plt.ylabel('Районы')\n",
    "plt.show()"
   ]
  },
  {
   "cell_type": "code",
   "execution_count": null,
   "metadata": {},
   "outputs": [],
   "source": [
    "df6 = df.groupby(['district','price']).size().reset_index(name='count')\n",
    "df6.sort_values(by=['count'], inplace=True)\n",
    "df6 = df6.pivot(index='price',columns='district',values='count')"
   ]
  },
  {
   "cell_type": "code",
   "execution_count": null,
   "metadata": {},
   "outputs": [],
   "source": [
    "df6"
   ]
  },
  {
   "cell_type": "code",
   "execution_count": null,
   "metadata": {},
   "outputs": [],
   "source": []
  }
 ],
 "metadata": {
  "kernelspec": {
   "display_name": "Python 3 (ipykernel)",
   "language": "python",
   "name": "python3"
  },
  "language_info": {
   "codemirror_mode": {
    "name": "ipython",
    "version": 3
   },
   "file_extension": ".py",
   "mimetype": "text/x-python",
   "name": "python",
   "nbconvert_exporter": "python",
   "pygments_lexer": "ipython3",
   "version": "3.8.5"
  }
 },
 "nbformat": 4,
 "nbformat_minor": 2
}
