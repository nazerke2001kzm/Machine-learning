{
 "cells": [
  {
   "cell_type": "code",
   "execution_count": 1,
   "metadata": {},
   "outputs": [],
   "source": [
    "import numpy as np"
   ]
  },
  {
   "cell_type": "code",
   "execution_count": 95,
   "metadata": {},
   "outputs": [
    {
     "name": "stdout",
     "output_type": "stream",
     "text": [
      "4\n"
     ]
    },
    {
     "data": {
      "text/plain": [
       "array([[0., 0., 0., 0.],\n",
       "       [0., 0., 0., 0.],\n",
       "       [0., 0., 0., 0.],\n",
       "       [0., 0., 0., 0.]])"
      ]
     },
     "execution_count": 95,
     "metadata": {},
     "output_type": "execute_result"
    }
   ],
   "source": [
    "n = int(input())\n",
    "array=np.zeros((n,n))\n",
    "array"
   ]
  },
  {
   "cell_type": "code",
   "execution_count": 96,
   "metadata": {},
   "outputs": [],
   "source": [
    "def k2(i,j,n,arr,sum):\n",
    "    if(sum>1):\n",
    "        start = i\n",
    "        start2=j\n",
    "        while(i==start and j==start2):\n",
    "            if(i==start and j!=n-1):\n",
    "                while(j!=n-1):\n",
    "                    arr[i][j]=sum\n",
    "                    sum=sum-1\n",
    "                    j+=1\n",
    "            if(j==n-1 and i==start):\n",
    "                while(i!=n-1):\n",
    "                    arr[i][j]=sum\n",
    "                    sum=sum-1\n",
    "                    i+=1\n",
    "        while(i==n-1 and j==n-1):\n",
    "            if(i==n-1 and j ==n-1):\n",
    "                while(j!=start2):\n",
    "                    arr[i][j]=sum\n",
    "                    sum=sum-1\n",
    "                    j-=1\n",
    "            if(j==start2 and i==n-1):\n",
    "                while(i!=start):\n",
    "                    arr[i][j]=sum\n",
    "                    sum=sum-1\n",
    "                    i-=1\n",
    "        n=n-1\n",
    "        start +=1\n",
    "        start2+=1\n",
    "        k2(start,start2,n,arr,sum)\n",
    "    if(sum==1):\n",
    "        arr[i+1][j+1]=sum\n",
    "    else:\n",
    "        return arr\n",
    "        "
   ]
  },
  {
   "cell_type": "code",
   "execution_count": 97,
   "metadata": {},
   "outputs": [],
   "source": [
    "summa=16"
   ]
  },
  {
   "cell_type": "code",
   "execution_count": 98,
   "metadata": {},
   "outputs": [
    {
     "data": {
      "text/plain": [
       "array([[16., 15., 14., 13.],\n",
       "       [ 5.,  4.,  3., 12.],\n",
       "       [ 6.,  1.,  2., 11.],\n",
       "       [ 7.,  8.,  9., 10.]])"
      ]
     },
     "execution_count": 98,
     "metadata": {},
     "output_type": "execute_result"
    }
   ],
   "source": [
    "k2(0,0,n,array,summa)"
   ]
  },
  {
   "cell_type": "code",
   "execution_count": null,
   "metadata": {},
   "outputs": [],
   "source": []
  },
  {
   "cell_type": "code",
   "execution_count": null,
   "metadata": {},
   "outputs": [],
   "source": []
  }
 ],
 "metadata": {
  "kernelspec": {
   "display_name": "Python 3",
   "language": "python",
   "name": "python3"
  },
  "language_info": {
   "codemirror_mode": {
    "name": "ipython",
    "version": 3
   },
   "file_extension": ".py",
   "mimetype": "text/x-python",
   "name": "python",
   "nbconvert_exporter": "python",
   "pygments_lexer": "ipython3",
   "version": "3.8.5"
  }
 },
 "nbformat": 4,
 "nbformat_minor": 4
}
