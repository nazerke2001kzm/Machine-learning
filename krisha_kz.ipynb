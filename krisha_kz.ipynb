{
 "cells": [
  {
   "cell_type": "code",
   "execution_count": 2,
   "metadata": {},
   "outputs": [],
   "source": [
    "import json\n",
    "from bs4 import BeautifulSoup\n",
    "import pandas as pd\n",
    "import requests\n",
    "import fake_useragent\n",
    "import selenium\n",
    "from selenium import webdriver\n",
    "#no dub key"
   ]
  },
  {
   "cell_type": "code",
   "execution_count": null,
   "metadata": {},
   "outputs": [],
   "source": [
    "chromeBrowser = webdriver.Chrome(executable_path=CHROMEDRIVER_PATH) "
   ]
  },
  {
   "cell_type": "code",
   "execution_count": null,
   "metadata": {},
   "outputs": [],
   "source": [
    "from selenium import webdriver                    # Import module \n",
    "from selenium.webdriver.common.keys import Keys   # For keyboard keys \n",
    "import time                                     "
   ]
  },
  {
   "cell_type": "code",
   "execution_count": 3,
   "metadata": {},
   "outputs": [],
   "source": [
    "user = fake_useragent.UserAgent().random"
   ]
  },
  {
   "cell_type": "code",
   "execution_count": 4,
   "metadata": {},
   "outputs": [
    {
     "name": "stderr",
     "output_type": "stream",
     "text": [
      "<ipython-input-4-6515745e16ce>:4: DeprecationWarning: use options instead of chrome_options\n",
      "  browser = webdriver.Chrome(executable_path=chromedriver, chrome_options=options)\n"
     ]
    }
   ],
   "source": [
    "chromedriver = 'D:\\chromedriver\\chromedriver.exe'\n",
    "options = webdriver.ChromeOptions()\n",
    "options.add_argument('headless')  # для открытия headless-браузера\n",
    "browser = webdriver.Chrome(executable_path=chromedriver, chrome_options=options)"
   ]
  },
  {
   "cell_type": "code",
   "execution_count": 25,
   "metadata": {},
   "outputs": [],
   "source": [
    "page = browser.get('https://www.adidas.ru/')\n",
    "# Поиск тегов по имени\n",
    "#email = browser.find_element_by_name('grid-item___3rAkS')"
   ]
  },
  {
   "cell_type": "code",
   "execution_count": 26,
   "metadata": {},
   "outputs": [],
   "source": [
    "page"
   ]
  },
  {
   "cell_type": "code",
   "execution_count": 15,
   "metadata": {},
   "outputs": [],
   "source": [
    "href = browser.find_elements_by_class_name('grid-item___3rAkS')"
   ]
  },
  {
   "cell_type": "code",
   "execution_count": null,
   "metadata": {},
   "outputs": [],
   "source": [
    "browser.get('https://shopping.thinkwithgoogle.com')       # 1 \n",
    "time.sleep(2)                                             # 2 \n",
    "search = browser.find_elements_by_id('subjectInput')[1]   # 3 \n",
    "# find_elements will give us the list of all elements with id as subjectInput \n",
    "search.send_keys('Google Pixel 3')                        # 4 \n",
    "time.sleep(2)                                             # 5 \n",
    "search.send_keys(Keys.ENTER)    "
   ]
  },
  {
   "cell_type": "code",
   "execution_count": null,
   "metadata": {},
   "outputs": [],
   "source": [
    "time.sleep(2) # Wait for button to appear \n",
    "browser.find_element_by_class_name('si-button-data download-all').click() "
   ]
  },
  {
   "cell_type": "code",
   "execution_count": null,
   "metadata": {},
   "outputs": [],
   "source": [
    "try: # proceed if element is found within 3 seconds otherwise will raise TimeoutException \n",
    "    element = WebDriverWait(browser, 3).until(EC.presence_of_element_located((By.ID, \n",
    "'Id_Of_Element'))) \n",
    "except TimeoutException: \n",
    "    print(\"Time out!\") "
   ]
  },
  {
   "cell_type": "code",
   "execution_count": null,
   "metadata": {},
   "outputs": [],
   "source": [
    "rom selenium import webdriver \n",
    "from selenium.webdriver.common.action_chains import ActionChains \n",
    "from selenium.webdriver.common.touch_actions import TouchActions \n",
    "browser = webdriver.Firefox() \n",
    "browser.get(URLString) \n",
    "element_to_hover_over = browser.find_element_by_id(\"anyID\") \n",
    "ActionChains(browser).move_to_element(element_to_hover_over).perform()  \n",
    "scroll_up_arrow = browser.find_element_by_id(\"scroll_up\") \n",
    "TouchActions(browser).long_press(scroll_up_arrow) "
   ]
  },
  {
   "cell_type": "code",
   "execution_count": 13,
   "metadata": {},
   "outputs": [
    {
     "data": {
      "text/plain": [
       "[]"
      ]
     },
     "execution_count": 13,
     "metadata": {},
     "output_type": "execute_result"
    }
   ],
   "source": [
    "href"
   ]
  },
  {
   "cell_type": "code",
   "execution_count": 12,
   "metadata": {},
   "outputs": [
    {
     "ename": "AttributeError",
     "evalue": "'list' object has no attribute 'find_elements_by_xpath'",
     "output_type": "error",
     "traceback": [
      "\u001b[1;31m---------------------------------------------------------------------------\u001b[0m",
      "\u001b[1;31mAttributeError\u001b[0m                            Traceback (most recent call last)",
      "\u001b[1;32m<ipython-input-12-cee6b132df74>\u001b[0m in \u001b[0;36m<module>\u001b[1;34m\u001b[0m\n\u001b[1;32m----> 1\u001b[1;33m \u001b[0mkross\u001b[0m \u001b[1;33m=\u001b[0m \u001b[0mhref\u001b[0m\u001b[1;33m.\u001b[0m\u001b[0mfind_elements_by_xpath\u001b[0m\u001b[1;33m(\u001b[0m\u001b[1;34m'//*[@id=\"app\"]/div/div[1]/div/div/div/div[2]/div[2]/div[3]/div/div/div[2]/div[1]/div/div[45]/div/div/div/div/div/div[1]/a'\u001b[0m\u001b[1;33m)\u001b[0m\u001b[1;33m\u001b[0m\u001b[1;33m\u001b[0m\u001b[0m\n\u001b[0m",
      "\u001b[1;31mAttributeError\u001b[0m: 'list' object has no attribute 'find_elements_by_xpath'"
     ]
    }
   ],
   "source": [
    "kross = href.find_elements_by_xpath('//*[@id=\"app\"]/div/div[1]/div/div/div/div[2]/div[2]/div[3]/div/div/div[2]/div[1]/div/div[45]/div/div/div/div/div/div[1]/a')"
   ]
  },
  {
   "cell_type": "code",
   "execution_count": 8,
   "metadata": {},
   "outputs": [],
   "source": [
    "soup = BeautifulSoup(requiredHtml, 'html5lib')"
   ]
  },
  {
   "cell_type": "code",
   "execution_count": 9,
   "metadata": {},
   "outputs": [
    {
     "data": {
      "text/plain": [
       "<html lang=\"en\"><head>\n",
       "    <meta charset=\"utf-8\"/>\n",
       "    <meta content=\"width=device-width, initial-scale = 1.0, maximum-scale=1.0, user-scalable=no\" name=\"viewport\"/>\n",
       "    <title>adidas</title>\n",
       "\n",
       "    <link href=\"/WAFfailoverassets/style.css\" rel=\"stylesheet\"/>\n",
       "</head>\n",
       "<body>\n",
       "\n",
       "<main class=\"content-wrapper\">\n",
       "    <header class=\"top\">\n",
       "        <div class=\"logo\">adidas</div>\n",
       "        <span id=\"ctl00_mainContentPlaceHolder_lblInvalidRequest\">\n",
       "<br/> Reference Error: 18.18a9645f.1627015946.3c74e00 </span>\n",
       "        <h1 class=\"title\">Unfortunately we are unable to give you access to our site at this time. </h1>\n",
       "        <p>A security issue was automatically identified, when you tried to access the website.</p>\n",
       "    </header>\n",
       "\n",
       "    <div class=\"columns\">\n",
       "\n",
       "        <section class=\"column column-1\">\n",
       "            <h3>What could have caused this?</h3>\n",
       "            <p>During high-traffic product releases we have extra security in place to prevent bots entering our site. We do this to protect customers and to give everyone a fair chance of getting the sneakers. Something in your setup must have triggered our security system, so we cannot allow you onto the site.</p>\n",
       "        </section>\n",
       "\n",
       "        <section class=\"column column-2\">\n",
       "            <h3>How can I resolve this?</h3>\n",
       "            <p>Please try refreshing or accessing our website from a different browser or another device. You could also check if there are any scripts, like ad blockers, running in your browser and disable them. </p>\n",
       "            <p>If this does not help, the issue might be caused by malware. If you're on a personal connection you can run an anti-virus scan on your device to make sure it's not affected by malware. If you're on a shared network, you could ask the system administrator to run a scan looking for misconfigured or infected devices across the network.</p>\n",
       "        </section>\n",
       "\n",
       "    </div>\n",
       "\n",
       "    <small class=\"error\">HTTP 403 - Forbidden</small>\n",
       "\n",
       "</main>\n",
       "\n",
       "\n",
       "\n",
       "</body></html>"
      ]
     },
     "execution_count": 9,
     "metadata": {},
     "output_type": "execute_result"
    }
   ],
   "source": [
    "soup"
   ]
  },
  {
   "cell_type": "markdown",
   "metadata": {},
   "source": [
    "# Крыша кз\n"
   ]
  },
  {
   "cell_type": "code",
   "execution_count": 4,
   "metadata": {},
   "outputs": [],
   "source": [
    "\n",
    "response = requests.get(url = 'https://krisha.kz/',data = {'User-Agent':user})"
   ]
  },
  {
   "cell_type": "code",
   "execution_count": 7,
   "metadata": {},
   "outputs": [],
   "source": [
    "krysha = response.text"
   ]
  },
  {
   "cell_type": "code",
   "execution_count": 8,
   "metadata": {},
   "outputs": [],
   "source": [
    "import lxml\n",
    "krysha = BeautifulSoup(krysha,'lxml')"
   ]
  },
  {
   "cell_type": "code",
   "execution_count": 51,
   "metadata": {},
   "outputs": [],
   "source": [
    "new = krysha.find('div',class_='secondary-navbar')"
   ]
  },
  {
   "cell_type": "code",
   "execution_count": 54,
   "metadata": {},
   "outputs": [],
   "source": [
    "hh = 'https://krisha.kz'"
   ]
  },
  {
   "cell_type": "code",
   "execution_count": 52,
   "metadata": {},
   "outputs": [],
   "source": [
    "href = new.find_all('a')"
   ]
  },
  {
   "cell_type": "code",
   "execution_count": 56,
   "metadata": {},
   "outputs": [],
   "source": [
    "array=[]\n",
    "for i in href:\n",
    "    link = i.get('href')\n",
    "    array.append(hh+link)"
   ]
  },
  {
   "cell_type": "code",
   "execution_count": 57,
   "metadata": {},
   "outputs": [
    {
     "data": {
      "text/plain": [
       "['https://krisha.kz/',\n",
       " 'https://krisha.kz/prodazha/',\n",
       " 'https://krisha.kz/arenda/',\n",
       " 'https://krisha.kz/valuation/',\n",
       " 'https://krisha.kz/pro/',\n",
       " 'https://krisha.kz/complex/search/',\n",
       " 'https://krisha.kz/content/',\n",
       " 'https://krisha.kz/guide/',\n",
       " 'https://krisha.kz/a/new?redirect=1']"
      ]
     },
     "execution_count": 57,
     "metadata": {},
     "output_type": "execute_result"
    }
   ],
   "source": [
    "array"
   ]
  },
  {
   "cell_type": "code",
   "execution_count": 59,
   "metadata": {},
   "outputs": [],
   "source": [
    "\n",
    "response2= requests.get(url = array[1] ,data = {'User-Agent':user})"
   ]
  },
  {
   "cell_type": "code",
   "execution_count": 60,
   "metadata": {},
   "outputs": [],
   "source": [
    "prodazha = response2.text\n"
   ]
  },
  {
   "cell_type": "code",
   "execution_count": 61,
   "metadata": {},
   "outputs": [],
   "source": [
    "prodazha = BeautifulSoup(prodazha,'lxml') "
   ]
  },
  {
   "cell_type": "code",
   "execution_count": 62,
   "metadata": {
    "scrolled": false
   },
   "outputs": [
    {
     "data": {
      "text/plain": [
       "<section class=\"a-search-form-container main-search-form is-loaded\">\n",
       "<form action=\"/prodazha/kvartiry/\" id=\"search-form\" method=\"get\">\n",
       "<div class=\"search-block-inputs\">\n",
       "<div class=\"search-block-form search-block-category\">\n",
       "<div class=\"search-element-wrap\">\n",
       "<div class=\"element-select\">\n",
       "<select class=\"category-type\">\n",
       "<option data-alias=\"prodazha\" selected=\"\" value=\"sell\">Купить</option>\n",
       "<option data-alias=\"arenda\" value=\"rent\">Снять</option>\n",
       "</select>\n",
       "<svg class=\"icon icon-svg icon-arrow-down\" role=\"img\"><use xlink:href=\"#icon-arrow-down\"></use></svg>\n",
       "</div>\n",
       "</div>\n",
       "<div class=\"search-element-wrap categories-for-sell\">\n",
       "<div class=\"element-select\">\n",
       "<select>\n",
       "<option data-alias=\"kvartiry\" selected=\"selected\" value=\"\">квартиру</option>\n",
       "<option data-alias=\"doma\" value=\"\">дом</option>\n",
       "<option data-alias=\"dachi\" value=\"\">дачу</option>\n",
       "<option data-alias=\"uchastkov\" value=\"\">участок</option>\n",
       "<option data-alias=\"ofisa\" value=\"\">офис</option>\n",
       "<option data-alias=\"pomeshhenija\" value=\"\">помещение</option>\n",
       "<option data-alias=\"zdanija\" value=\"\">здание</option>\n",
       "<option data-alias=\"magazina\" value=\"\">магазин, бутик</option>\n",
       "<option data-alias=\"prombazy\" value=\"\">промбазу, склад</option>\n",
       "<option data-alias=\"prochej-nedvizhimosti\" value=\"\">прочее</option>\n",
       "</select>\n",
       "<svg class=\"icon icon-svg icon-arrow-down\" role=\"img\"><use xlink:href=\"#icon-arrow-down\"></use></svg>\n",
       "</div>\n",
       "</div>\n",
       "<div class=\"search-element-wrap categories-for-rent\" style=\"display: none\">\n",
       "<div class=\"element-select\">\n",
       "<select disabled=\"disabled\">\n",
       "<option data-alias=\"kvartiry\" selected=\"selected\" value=\"\">квартиру</option>\n",
       "<option data-alias=\"doma\" value=\"\">дом</option>\n",
       "<option data-alias=\"komnaty\" value=\"\">комнату</option>\n",
       "<option data-alias=\"dachi\" value=\"\">дачу</option>\n",
       "<option data-alias=\"ofisa\" value=\"\">офис</option>\n",
       "<option data-alias=\"pomeshhenija\" value=\"\">помещение</option>\n",
       "<option data-alias=\"zdanija\" value=\"\">здание</option>\n",
       "<option data-alias=\"magazina\" value=\"\">магазин, бутик</option>\n",
       "<option data-alias=\"prombazy\" value=\"\">промбазу, склад</option>\n",
       "<option data-alias=\"prochej-nedvizhimosti\" value=\"\">прочее</option>\n",
       "</select>\n",
       "<svg class=\"icon icon-svg icon-arrow-down\" role=\"img\"><use xlink:href=\"#icon-arrow-down\"></use></svg>\n",
       "</div>\n",
       "</div>\n",
       "<div class=\"search-element-wrap categories-for-exchange\" style=\"display: none\">\n",
       "<div class=\"element-select\">\n",
       "<select disabled=\"disabled\" name=\"das[exch.type]\">\n",
       "<option value=\"1\">квартиру</option>\n",
       "<option value=\"2\">дом</option>\n",
       "<option value=\"3\">дачу</option>\n",
       "<option value=\"5\">участок</option>\n",
       "<option value=\"20\">прочее</option>\n",
       "</select>\n",
       "<svg class=\"icon icon-svg icon-arrow-down\" role=\"img\"><use xlink:href=\"#icon-arrow-down\"></use></svg>\n",
       "</div>\n",
       "</div>\n",
       "<div class=\"search-element-wrap\">\n",
       "<div class=\"element-region-dropdown dropdown\" data-allowed-ids=\"\" data-url=\"/region/ajaxGetChildren/\">\n",
       "<a class=\"dropdown-selected-text dropdown-toggle-link\" data-toggle=\"dropdown\" href=\"#\" id=\"region-selected-value\">\n",
       "<span class=\"region-dropdown-label\" data-label=\"\">Весь Казахстан</span>\n",
       "<span class=\"dropdown-caret caret\"></span>\n",
       "<div class=\"triangle-with-shadow\"></div>\n",
       "</a>\n",
       "<input class=\"region-value-hidden\" data-alias=\"\" data-id=\"\" id=\"region\" name=\"region\" type=\"hidden\" value=\"\"/>\n",
       "<div class=\"dropdown-menu\">\n",
       "<a class=\"link region-dropdown-action region-dropdown-action-cancel\" href=\"#\" title=\"Отмена\">\n",
       "<svg class=\"icon icon-svg icon-cross\" role=\"img\"><use xlink:href=\"#icon-cross\"></use></svg>\n",
       "</a>\n",
       "<div class=\"element-region-dropdown-inner\" data-url=\"/region/ajaxGetChildren/\">\n",
       "<div class=\"kr-autocomplete\"></div>\n",
       "<div class=\"element-region-dropdown-selects\">\n",
       "<div class=\"leveled-select is-visible\">\n",
       "<select data-level=\"2\" size=\"20\">\n",
       "<option class=\"\" data-alias=\"\" data-has-children=\"0\" data-has-complexes=\"0\" data-id=\"\" data-label=\"Весь Казахстан\" data-lat=\"0\" data-lon=\"0\" data-name=\"Весь Казахстан\" data-type=\"\" data-zoom=\"0\" value=\"\">\n",
       "            Весь Казахстан\n",
       "        </option>\n",
       "<option class=\"is-big-city\" data-alias=\"almaty\" data-has-children=\"1\" data-has-complexes=\"1\" data-id=\"2\" data-label=\"Алматы\" data-lat=\"43.2859\" data-lon=\"76.9129\" data-name=\"Алматы\" data-type=\"city\" data-zoom=\"11\" value=\"2\">\n",
       "            Алматы\n",
       "        </option>\n",
       "<option class=\"is-big-city\" data-alias=\"nur-sultan\" data-has-children=\"1\" data-has-complexes=\"1\" data-id=\"105\" data-label=\"Нур-Султан (Астана)\" data-lat=\"51.1583\" data-lon=\"71.4314\" data-name=\"Нур-Султан (Астана)\" data-type=\"city\" data-zoom=\"11\" value=\"105\">\n",
       "            Нур-Султан (Астана)\n",
       "        </option>\n",
       "<option class=\"is-big-city\" data-alias=\"shymkent\" data-has-children=\"1\" data-has-complexes=\"1\" data-id=\"278\" data-label=\"Шымкент\" data-lat=\"42.3174\" data-lon=\"69.6207\" data-name=\"Шымкент\" data-type=\"city\" data-zoom=\"11\" value=\"278\">\n",
       "            Шымкент\n",
       "        </option>\n",
       "<option class=\"\" data-alias=\"akmolinskaja-oblast\" data-has-children=\"1\" data-has-complexes=\"1\" data-id=\"112\" data-label=\"Акмолинская обл.\" data-lat=\"52.1358\" data-lon=\"70.0004\" data-name=\"Акмолинская обл.\" data-type=\"region\" data-zoom=\"6\" value=\"112\">\n",
       "            Акмолинская обл.\n",
       "        </option>\n",
       "<option class=\"\" data-alias=\"aktjubinskaja-oblast\" data-has-children=\"1\" data-has-complexes=\"1\" data-id=\"124\" data-label=\"Актюбинская обл.\" data-lat=\"49.1891\" data-lon=\"57.2893\" data-name=\"Актюбинская обл.\" data-type=\"region\" data-zoom=\"7\" value=\"124\">\n",
       "            Актюбинская обл.\n",
       "        </option>\n",
       "<option class=\"\" data-alias=\"almatinskaja-oblast\" data-has-children=\"1\" data-has-complexes=\"1\" data-id=\"132\" data-label=\"Алматинская обл.\" data-lat=\"45.2151\" data-lon=\"77.3393\" data-name=\"Алматинская обл.\" data-type=\"region\" data-zoom=\"6\" value=\"132\">\n",
       "            Алматинская обл.\n",
       "        </option>\n",
       "<option class=\"\" data-alias=\"atyrauskaja-oblast\" data-has-children=\"1\" data-has-complexes=\"1\" data-id=\"213\" data-label=\"Атырауская обл.\" data-lat=\"47.3865\" data-lon=\"52.5799\" data-name=\"Атырауская обл.\" data-type=\"region\" data-zoom=\"7\" value=\"213\">\n",
       "            Атырауская обл.\n",
       "        </option>\n",
       "<option class=\"\" data-alias=\"vostochno-kazahstanskaja-oblast\" data-has-children=\"1\" data-has-complexes=\"1\" data-id=\"216\" data-label=\"Восточно-Казахстанская обл.\" data-lat=\"48.8247\" data-lon=\"81.2285\" data-name=\"Восточно-Казахстанская обл.\" data-type=\"region\" data-zoom=\"6\" value=\"216\">\n",
       "            Восточно-Казахстанская обл.\n",
       "        </option>\n",
       "<option class=\"\" data-alias=\"zhambylskaja-oblast\" data-has-children=\"1\" data-has-complexes=\"1\" data-id=\"227\" data-label=\"Жамбылская обл.\" data-lat=\"44.2558\" data-lon=\"72.0988\" data-name=\"Жамбылская обл.\" data-type=\"region\" data-zoom=\"6\" value=\"227\">\n",
       "            Жамбылская обл.\n",
       "        </option>\n",
       "<option class=\"\" data-alias=\"zapadno-kazahstanskaja-oblast\" data-has-children=\"1\" data-has-complexes=\"1\" data-id=\"232\" data-label=\"Западно-Казахстанская обл.\" data-lat=\"49.989\" data-lon=\"50.5107\" data-name=\"Западно-Казахстанская обл.\" data-type=\"region\" data-zoom=\"7\" value=\"232\">\n",
       "            Западно-Казахстанская обл.\n",
       "        </option>\n",
       "<option class=\"\" data-alias=\"karagandinskaja-oblast\" data-has-children=\"1\" data-has-complexes=\"1\" data-id=\"235\" data-label=\"Карагандинская обл.\" data-lat=\"49.5734\" data-lon=\"73.7798\" data-name=\"Карагандинская обл.\" data-type=\"region\" data-zoom=\"6\" value=\"235\">\n",
       "            Карагандинская обл.\n",
       "        </option>\n",
       "<option class=\"\" data-alias=\"kostanajskaja-oblast\" data-has-children=\"1\" data-has-complexes=\"1\" data-id=\"247\" data-label=\"Костанайская обл.\" data-lat=\"51.4697\" data-lon=\"63.9799\" data-name=\"Костанайская обл.\" data-type=\"region\" data-zoom=\"6\" value=\"247\">\n",
       "            Костанайская обл.\n",
       "        </option>\n",
       "<option class=\"\" data-alias=\"kyzylordinskaja-oblast\" data-has-children=\"1\" data-has-complexes=\"1\" data-id=\"253\" data-label=\"Кызылординская обл.\" data-lat=\"45.3425\" data-lon=\"63.2988\" data-name=\"Кызылординская обл.\" data-type=\"region\" data-zoom=\"6\" value=\"253\">\n",
       "            Кызылординская обл.\n",
       "        </option>\n",
       "<option class=\"\" data-alias=\"mangistauskaja-oblast\" data-has-children=\"1\" data-has-complexes=\"1\" data-id=\"257\" data-label=\"Мангистауская обл.\" data-lat=\"44.2648\" data-lon=\"53.7627\" data-name=\"Мангистауская обл.\" data-type=\"region\" data-zoom=\"6\" value=\"257\">\n",
       "            Мангистауская обл.\n",
       "        </option>\n",
       "<option class=\"\" data-alias=\"pavlodarskaja-oblast\" data-has-children=\"1\" data-has-complexes=\"1\" data-id=\"260\" data-label=\"Павлодарская обл.\" data-lat=\"52.0809\" data-lon=\"76.7461\" data-name=\"Павлодарская обл.\" data-type=\"region\" data-zoom=\"6\" value=\"260\">\n",
       "            Павлодарская обл.\n",
       "        </option>\n",
       "<option class=\"\" data-alias=\"severo-kazahstanskaja-oblast\" data-has-children=\"1\" data-has-complexes=\"1\" data-id=\"264\" data-label=\"Северо-Казахстанская обл.\" data-lat=\"54.4275\" data-lon=\"68.6491\" data-name=\"Северо-Казахстанская обл.\" data-type=\"region\" data-zoom=\"7\" value=\"264\">\n",
       "            Северо-Казахстанская обл.\n",
       "        </option>\n",
       "<option class=\"\" data-alias=\"juzhno-kazahstanskaja-oblast\" data-has-children=\"1\" data-has-complexes=\"1\" data-id=\"270\" data-label=\"Туркестанская обл.\" data-lat=\"44.9498\" data-lon=\"78.4223\" data-name=\"Туркестанская обл.\" data-type=\"region\" data-zoom=\"11\" value=\"270\">\n",
       "            Туркестанская обл.\n",
       "        </option>\n",
       "<option class=\"\" data-alias=\"zn\" data-has-children=\"1\" data-has-complexes=\"1\" data-id=\"zn\" data-label=\"Зарубежная недвижимость\" data-lat=\"37.44986\" data-lon=\"-18.71915\" data-name=\"Зарубежная недвижимость\" data-type=\"\" data-zoom=\"3\" value=\"zn\">\n",
       "            Зарубежная недвижимость\n",
       "        </option>\n",
       "</select>\n",
       "<a class=\"btn btn-primary region-dropdown-action region-dropdown-action-apply is-disabled\" href=\"#\">\n",
       "                                Выбрать\n",
       "                            </a>\n",
       "</div>\n",
       "</div>\n",
       "</div>\n",
       "</div>\n",
       "</div>\n",
       "</div>\n",
       "</div>\n",
       "<div class=\"search-block-form search-block-filters\">\n",
       "<div class=\"search-element-wrap specs_kvartiry\">\n",
       "<div class=\"element-select\">\n",
       "<select name=\"das[live.rooms]\">\n",
       "<option selected=\"selected\" value=\"\">любой комнатности</option>\n",
       "<option value=\"1\">1 комн.</option>\n",
       "<option value=\"1-2\">1-2 комн.</option>\n",
       "<option value=\"2\">2 комн.</option>\n",
       "<option value=\"2-3\">2-3 комн.</option>\n",
       "<option value=\"3\">3 комн.</option>\n",
       "<option value=\"3-4\">3-4 комн.</option>\n",
       "<option value=\"4\">4 комн.</option>\n",
       "<option value=\"4-5\">4-5 комн.</option>\n",
       "<option value=\"5.100\">5 и более комн.</option>\n",
       "</select>\n",
       "<svg class=\"icon icon-svg icon-arrow-down\" role=\"img\"><use xlink:href=\"#icon-arrow-down\"></use></svg>\n",
       "</div>\n",
       "</div>\n",
       "<div class=\"search-element-wrap specs_doma\" style=\"display: none;\">\n",
       "<div class=\"element-select\">\n",
       "<select disabled=\"disabled\" name=\"das[live.rooms]\">\n",
       "<option selected=\"selected\" value=\"\">любой комнатности</option>\n",
       "<option value=\"1-3\">1-3 комн.</option>\n",
       "<option value=\"4-5\">4-5 комн.</option>\n",
       "<option value=\"5-6\">5-6 комн.</option>\n",
       "<option value=\"6-7\">6-7 комн.</option>\n",
       "<option value=\"7-9\">7-9 комн.</option>\n",
       "<option value=\"10.100\">10 и более комн.</option>\n",
       "</select>\n",
       "<svg class=\"icon icon-svg icon-arrow-down\" role=\"img\"><use xlink:href=\"#icon-arrow-down\"></use></svg>\n",
       "</div>\n",
       "</div>\n",
       "<div class=\"search-element-wrap specs_dachi specs_uchastkov\" style=\"display:none\">\n",
       "                 от <input class=\"text\" disabled=\"disabled\" name=\"das[land.square][from]\" size=\"4\" type=\"text\"/>\n",
       "                до <input class=\"text\" disabled=\"disabled\" name=\"das[land.square][to]\" size=\"4\" type=\"text\"/> соток\n",
       "            </div>\n",
       "<div class=\"search-element-wrap specs_zdanija specs_ofisa specs_pomeshhenija specs_zdanija specs_magazina\" style=\"display:none\">\n",
       "                 от <input class=\"text\" disabled=\"disabled\" name=\"das[com.square][from]\" size=\"4\" type=\"text\"/>\n",
       "                до <input class=\"text\" disabled=\"disabled\" name=\"das[com.square][to]\" size=\"4\" type=\"text\"/> м<sup>2</sup>\n",
       "</div>\n",
       "<div class=\"search-element-wrap search-element-price\">\n",
       "<input name=\"das[price][from]\" placeholder=\"от\" size=\"6\" type=\"text\"/> —\n",
       "                <input name=\"das[price][to]\" placeholder=\"до\" size=\"6\" type=\"text\"/>\n",
       "</div>\n",
       "<span class=\"rent_currency specs_komnaty specs_prochej-nedvizhimosti specs_prombazy\">тг</span>\n",
       "<div class=\"search-element-wrap search-element-square specs_ofisa specs_pomeshhenija specs_zdanija specs_magazina\" style=\"display: none;\">\n",
       "<div class=\"element-select\">\n",
       "<select disabled=\"disabled\" name=\"das[rent.square]\">\n",
       "<option value=\"\"></option>\n",
       "<option value=\"1\">за м²</option>\n",
       "<option value=\"\">за всё</option>\n",
       "</select>\n",
       "<svg class=\"icon icon-svg icon-arrow-down\" role=\"img\"><use xlink:href=\"#icon-arrow-down\"></use></svg>\n",
       "</div>\n",
       "</div>\n",
       "</div>\n",
       "<div class=\"checkbox-conditions\">\n",
       "<div class=\"checkbox-custom\">\n",
       "<input id=\"das[_sys.hasphoto]-checkbox-0\" name=\"das[_sys.hasphoto]\" type=\"checkbox\" value=\"1\"/>\n",
       "<label for=\"das[_sys.hasphoto]-checkbox-0\">\n",
       "<svg class=\"icon icon-svg icon-checkbox\" role=\"img\"><use xlink:href=\"#icon-checkbox\" xmlns:xlink=\"http://www.w3.org/1999/xlink\"></use></svg>\n",
       "<svg class=\"icon icon-svg icon-checkbox-checked\" role=\"img\"><use xlink:href=\"#icon-checkbox-checked\" xmlns:xlink=\"http://www.w3.org/1999/xlink\"></use></svg>\n",
       "                    есть фото\n",
       "                </label>\n",
       "</div>\n",
       "<div class=\"checkbox-overlay checkbox-custom\">\n",
       "<div class=\"checkbox-custom\">\n",
       "<input id=\"novostroiki-checkbox-0\" name=\"das[novostroiki]\" type=\"checkbox\" value=\"1\"/>\n",
       "<label for=\"novostroiki-checkbox-0\">\n",
       "<svg class=\"icon icon-svg icon-checkbox\" role=\"img\">\n",
       "<use xlink:href=\"#icon-checkbox\"></use>\n",
       "</svg>\n",
       "<svg class=\"icon icon-svg icon-checkbox-checked\" role=\"img\">\n",
       "<use xlink:href=\"#icon-checkbox-checked\"></use>\n",
       "</svg>\n",
       "                            новостройки\n",
       "                        </label>\n",
       "</div>\n",
       "<div class=\"checkbox-overlay__hand\"><svg class=\"icon icon-svg icon-hand-icon\" role=\"img\"><use xlink:href=\"#icon-hand-icon\"></use></svg></div>\n",
       "<div class=\"tooltip-overlay\">\n",
       "<div class=\"tooltip-overlay__img\"><svg class=\"icon icon-svg icon-vector-stroke\" role=\"img\"><use xlink:href=\"#icon-vector-stroke\"></use></svg></div>\n",
       "<div class=\"tooltip-overlay__title-block\">\n",
       "<div class=\"tooltip-overlay__title\">\n",
       "            Первичное жильё\n",
       "        </div>\n",
       "<div class=\"tooltip-overlay__description\">\n",
       "            Ищите проверенные объявления от застройщиков.\n",
       "        </div>\n",
       "</div>\n",
       "</div> </div>\n",
       "<div class=\"checkbox-custom\">\n",
       "<input id=\"das[checked]-checkbox-0\" name=\"das[checked]\" type=\"checkbox\" value=\"1\"/>\n",
       "<label for=\"das[checked]-checkbox-0\">\n",
       "<svg class=\"icon icon-svg icon-checkbox\" role=\"img\"><use xlink:href=\"#icon-checkbox\" xmlns:xlink=\"http://www.w3.org/1999/xlink\"></use></svg>\n",
       "<svg class=\"icon icon-svg icon-checkbox-checked\" role=\"img\"><use xlink:href=\"#icon-checkbox-checked\" xmlns:xlink=\"http://www.w3.org/1999/xlink\"></use></svg>\n",
       "                    от проверенных агентств\n",
       "                </label>\n",
       "</div>\n",
       "<div class=\"checkbox-custom\">\n",
       "<input id=\"das[who]-checkbox-0\" name=\"das[who]\" type=\"checkbox\" value=\"1\"/>\n",
       "<label for=\"das[who]-checkbox-0\">\n",
       "<svg class=\"icon icon-svg icon-checkbox\" role=\"img\"><use xlink:href=\"#icon-checkbox\" xmlns:xlink=\"http://www.w3.org/1999/xlink\"></use></svg>\n",
       "<svg class=\"icon icon-svg icon-checkbox-checked\" role=\"img\"><use xlink:href=\"#icon-checkbox-checked\" xmlns:xlink=\"http://www.w3.org/1999/xlink\"></use></svg>\n",
       "                    от хозяев\n",
       "                </label>\n",
       "</div>\n",
       "</div>\n",
       "</div>\n",
       "<div class=\"search-block-submit\">\n",
       "<div class=\"btn-submit-wrapper\">\n",
       "<button class=\"search-btn-main\" type=\"submit\">Найти</button>\n",
       "</div>\n",
       "<button class=\"search-btn-main map-search\" type=\"submit\">\n",
       "<svg class=\"icon icon-svg icon-map-geolocation\" role=\"img\"><use xlink:href=\"#icon-map-geolocation\"></use></svg>\n",
       "            На карте\n",
       "        </button>\n",
       "</div>\n",
       "</form> </section>"
      ]
     },
     "execution_count": 62,
     "metadata": {},
     "output_type": "execute_result"
    }
   ],
   "source": [
    "prodazha.find('section',class_='a-search-form-container main-search-form is-loaded')"
   ]
  },
  {
   "cell_type": "code",
   "execution_count": null,
   "metadata": {},
   "outputs": [],
   "source": [
    "https://krisha.kz/prodazha/kvartiry/almaty/?das[flat.building]=1&das[floor_not_first]=1&das[floor_not_last]=1&das[live.rooms]=3&das[map.complex]=534&das[novostroiki]=1&das[who]=1"
   ]
  },
  {
   "cell_type": "code",
   "execution_count": 67,
   "metadata": {},
   "outputs": [],
   "source": [
    "response3= requests.get(url = 'https://krisha.kz/prodazha/doma/nur-sultan/?das[_sys.hasphoto]=1&das[house.building]=1&das[live.rooms][]=1&das[live.rooms][]=2&das[live.rooms][]=3&das[price][from]=10000000&das[price][to]=50000000&das[who]=1',data = {'User-Agent':user})"
   ]
  },
  {
   "cell_type": "code",
   "execution_count": 69,
   "metadata": {},
   "outputs": [],
   "source": [
    "house= response3.text"
   ]
  },
  {
   "cell_type": "code",
   "execution_count": 71,
   "metadata": {},
   "outputs": [],
   "source": [
    "house = BeautifulSoup(house,'lxml')"
   ]
  },
  {
   "cell_type": "code",
   "execution_count": 72,
   "metadata": {},
   "outputs": [],
   "source": [
    "list_house = house.find('section',class_='a-list a-search-list a-list-with-favs')"
   ]
  },
  {
   "cell_type": "code",
   "execution_count": 75,
   "metadata": {},
   "outputs": [],
   "source": [
    "list_href = list_house.find_all('a')"
   ]
  },
  {
   "cell_type": "code",
   "execution_count": 81,
   "metadata": {},
   "outputs": [],
   "source": [
    "array_house = []\n",
    "for i in list_href:\n",
    "    link = i.get('href')\n",
    "    if(link[0]=='/'):\n",
    "        array_house.append(hh+link)"
   ]
  },
  {
   "cell_type": "code",
   "execution_count": 80,
   "metadata": {},
   "outputs": [
    {
     "data": {
      "text/plain": [
       "'/'"
      ]
     },
     "execution_count": 80,
     "metadata": {},
     "output_type": "execute_result"
    }
   ],
   "source": [
    "link[0]"
   ]
  },
  {
   "cell_type": "code",
   "execution_count": 91,
   "metadata": {},
   "outputs": [],
   "source": [
    "for i in array_house:\n",
    "    if(i=='https://krisha.kz/a/my/'):\n",
    "        array_house.remove(i)\n",
    "    if(i=='https://krisha.kz/my'):\n",
    "         array_house.remove(i)"
   ]
  },
  {
   "cell_type": "code",
   "execution_count": 92,
   "metadata": {},
   "outputs": [
    {
     "data": {
      "text/plain": [
       "['https://krisha.kz/a/show/668895531',\n",
       " 'https://krisha.kz/a/show/668895531',\n",
       " 'https://krisha.kz/a/show/667264168',\n",
       " 'https://krisha.kz/a/show/667264168',\n",
       " 'https://krisha.kz/a/show/660724773',\n",
       " 'https://krisha.kz/a/show/660724773',\n",
       " 'https://krisha.kz/a/show/46585821',\n",
       " 'https://krisha.kz/a/show/46585821',\n",
       " 'https://krisha.kz/a/show/52959289',\n",
       " 'https://krisha.kz/a/show/52959289',\n",
       " 'https://krisha.kz/a/show/666920264',\n",
       " 'https://krisha.kz/a/show/666920264',\n",
       " 'https://krisha.kz/a/show/668634311',\n",
       " 'https://krisha.kz/a/show/668634311',\n",
       " 'https://krisha.kz/a/show/667970524',\n",
       " 'https://krisha.kz/a/show/667970524',\n",
       " 'https://krisha.kz/a/show/666818992',\n",
       " 'https://krisha.kz/a/show/666818992',\n",
       " 'https://krisha.kz/a/show/57704530',\n",
       " 'https://krisha.kz/a/show/57704530',\n",
       " 'https://krisha.kz/a/show/668631130',\n",
       " 'https://krisha.kz/a/show/668631130',\n",
       " 'https://krisha.kz/a/show/660925084',\n",
       " 'https://krisha.kz/a/show/660925084',\n",
       " 'https://krisha.kz/a/show/668311073',\n",
       " 'https://krisha.kz/a/show/668311073',\n",
       " 'https://krisha.kz/a/show/50136516',\n",
       " 'https://krisha.kz/a/show/50136516',\n",
       " 'https://krisha.kz/a/show/668928857',\n",
       " 'https://krisha.kz/a/show/668928857',\n",
       " 'https://krisha.kz/a/show/51113035',\n",
       " 'https://krisha.kz/a/show/51113035',\n",
       " 'https://krisha.kz/a/show/666945910',\n",
       " 'https://krisha.kz/a/show/666945910',\n",
       " 'https://krisha.kz/a/show/666725754',\n",
       " 'https://krisha.kz/a/show/666725754',\n",
       " 'https://krisha.kz/a/show/49763043',\n",
       " 'https://krisha.kz/a/show/49763043',\n",
       " 'https://krisha.kz/a/show/668081996',\n",
       " 'https://krisha.kz/a/show/668081996']"
      ]
     },
     "execution_count": 92,
     "metadata": {},
     "output_type": "execute_result"
    }
   ],
   "source": [
    "array_house"
   ]
  },
  {
   "cell_type": "code",
   "execution_count": null,
   "metadata": {},
   "outputs": [],
   "source": [
    "&das[house.building]=0&das[live.rooms][]=2&das[live.rooms][]=2&das[live.rooms][]=3&das[price][from]=10000000&das[price][to]=50000000&das[who]=1"
   ]
  }
 ],
 "metadata": {
  "kernelspec": {
   "display_name": "Python 3 (ipykernel)",
   "language": "python",
   "name": "python3"
  },
  "language_info": {
   "codemirror_mode": {
    "name": "ipython",
    "version": 3
   },
   "file_extension": ".py",
   "mimetype": "text/x-python",
   "name": "python",
   "nbconvert_exporter": "python",
   "pygments_lexer": "ipython3",
   "version": "3.8.5"
  }
 },
 "nbformat": 4,
 "nbformat_minor": 4
}
